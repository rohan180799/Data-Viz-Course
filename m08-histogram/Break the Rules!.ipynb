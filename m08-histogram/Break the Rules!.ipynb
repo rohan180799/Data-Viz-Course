{
 "cells": [
  {
   "cell_type": "code",
   "execution_count": 2,
   "id": "b80a79a2",
   "metadata": {},
   "outputs": [],
   "source": [
    "import vega_datasets"
   ]
  },
  {
   "cell_type": "code",
   "execution_count": 31,
   "id": "b373ed0d",
   "metadata": {},
   "outputs": [
    {
     "data": {
      "text/html": [
       "<div>\n",
       "<style scoped>\n",
       "    .dataframe tbody tr th:only-of-type {\n",
       "        vertical-align: middle;\n",
       "    }\n",
       "\n",
       "    .dataframe tbody tr th {\n",
       "        vertical-align: top;\n",
       "    }\n",
       "\n",
       "    .dataframe thead th {\n",
       "        text-align: right;\n",
       "    }\n",
       "</style>\n",
       "<table border=\"1\" class=\"dataframe\">\n",
       "  <thead>\n",
       "    <tr style=\"text-align: right;\">\n",
       "      <th></th>\n",
       "      <th>name</th>\n",
       "      <th>region</th>\n",
       "      <th>id</th>\n",
       "      <th>pct</th>\n",
       "      <th>total</th>\n",
       "      <th>group</th>\n",
       "    </tr>\n",
       "  </thead>\n",
       "  <tbody>\n",
       "    <tr>\n",
       "      <th>0</th>\n",
       "      <td>Alabama</td>\n",
       "      <td>south</td>\n",
       "      <td>1</td>\n",
       "      <td>0.102</td>\n",
       "      <td>1837292</td>\n",
       "      <td>&lt;10000</td>\n",
       "    </tr>\n",
       "    <tr>\n",
       "      <th>1</th>\n",
       "      <td>Alabama</td>\n",
       "      <td>south</td>\n",
       "      <td>1</td>\n",
       "      <td>0.072</td>\n",
       "      <td>1837292</td>\n",
       "      <td>10000 to 14999</td>\n",
       "    </tr>\n",
       "    <tr>\n",
       "      <th>2</th>\n",
       "      <td>Alabama</td>\n",
       "      <td>south</td>\n",
       "      <td>1</td>\n",
       "      <td>0.130</td>\n",
       "      <td>1837292</td>\n",
       "      <td>15000 to 24999</td>\n",
       "    </tr>\n",
       "    <tr>\n",
       "      <th>3</th>\n",
       "      <td>Alabama</td>\n",
       "      <td>south</td>\n",
       "      <td>1</td>\n",
       "      <td>0.115</td>\n",
       "      <td>1837292</td>\n",
       "      <td>25000 to 34999</td>\n",
       "    </tr>\n",
       "    <tr>\n",
       "      <th>4</th>\n",
       "      <td>Alabama</td>\n",
       "      <td>south</td>\n",
       "      <td>1</td>\n",
       "      <td>0.143</td>\n",
       "      <td>1837292</td>\n",
       "      <td>35000 to 49999</td>\n",
       "    </tr>\n",
       "  </tbody>\n",
       "</table>\n",
       "</div>"
      ],
      "text/plain": [
       "      name region  id    pct    total           group\n",
       "0  Alabama  south   1  0.102  1837292          <10000\n",
       "1  Alabama  south   1  0.072  1837292  10000 to 14999\n",
       "2  Alabama  south   1  0.130  1837292  15000 to 24999\n",
       "3  Alabama  south   1  0.115  1837292  25000 to 34999\n",
       "4  Alabama  south   1  0.143  1837292  35000 to 49999"
      ]
     },
     "execution_count": 31,
     "metadata": {},
     "output_type": "execute_result"
    }
   ],
   "source": [
    "income = vega_datasets.data.income()\n",
    "income.head()"
   ]
  },
  {
   "cell_type": "code",
   "execution_count": 32,
   "id": "49fb586d",
   "metadata": {},
   "outputs": [
    {
     "data": {
      "text/plain": [
       "11"
      ]
     },
     "execution_count": 32,
     "metadata": {},
     "output_type": "execute_result"
    }
   ],
   "source": [
    "import numpy as np\n",
    "import math\n",
    "n = len(income)\n",
    "x = math.log(n,2) + int(1)\n",
    "math.ceil(x)"
   ]
  },
  {
   "cell_type": "code",
   "execution_count": 33,
   "id": "27922f82",
   "metadata": {},
   "outputs": [
    {
     "data": {
      "text/plain": [
       "(array([ 36.,  88.,  78.,  81., 121.,  56.,  37.,  21.,   1.,   0.,   1.]),\n",
       " array([0.006     , 0.03172727, 0.05745455, 0.08318182, 0.10890909,\n",
       "        0.13463636, 0.16036364, 0.18609091, 0.21181818, 0.23754545,\n",
       "        0.26327273, 0.289     ]),\n",
       " <BarContainer object of 11 artists>)"
      ]
     },
     "execution_count": 33,
     "metadata": {},
     "output_type": "execute_result"
    },
    {
     "data": {
      "image/png": "[encoded data removed]",
      "text/plain": [
       "<Figure size 432x288 with 1 Axes>"
      ]
     },
     "metadata": {
      "needs_background": "light"
     },
     "output_type": "display_data"
    }
   ],
   "source": [
    "import matplotlib.pyplot as plt\n",
    "bins = math.ceil(x)\n",
    "plt.hist(income.pct, bins = bins)"
   ]
  },
  {
   "cell_type": "markdown",
   "id": "0f1e7320",
   "metadata": {},
   "source": [
    "Here, I have used Sturges' rule for taking out the number of bins for effectively showing the histogram. The data is about the percentage of population that falls under a certain income range. The number of bins come down to 11, which is quite readable. But, the main problem is that the structure becomes broken comb at the end of the data distribution, which results into a non-conclusive state. It would have been effective if the distribution would have been in a way that the histogram doesn't break, i.e. less bins with correct showcase of the data. "
   ]
  },
  {
   "cell_type": "code",
   "execution_count": null,
   "id": "a049a1d0",
   "metadata": {},
   "outputs": [],
   "source": []
  }
 ],
 "metadata": {
  "kernelspec": {
   "display_name": "Python [conda env:dviz] *",
   "language": "python",
   "name": "conda-env-dviz-py"
  },
  "language_info": {
   "codemirror_mode": {
    "name": "ipython",
    "version": 3
   },
   "file_extension": ".py",
   "mimetype": "text/x-python",
   "name": "python",
   "nbconvert_exporter": "python",
   "pygments_lexer": "ipython3",
   "version": "3.8.11"
  }
 },
 "nbformat": 4,
 "nbformat_minor": 5
}
